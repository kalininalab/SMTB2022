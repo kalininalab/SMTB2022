{
 "cells": [
  {
   "cell_type": "markdown",
   "metadata": {},
   "source": [
    "# Create data\n",
    "\n",
    "Import libraries"
   ]
  },
  {
   "cell_type": "code",
   "execution_count": 1,
   "metadata": {},
   "outputs": [],
   "source": [
    "from typing import List, Tuple\n",
    "from Bio import SeqIO\n",
    "import random\n",
    "\n",
    "# All amino acids\n",
    "aa_list = ['A', 'R', 'N', 'D', 'C', 'Q', 'E', 'G', 'H', 'I', 'L', 'K', 'M', 'F', 'P', 'S', 'T', 'W', 'Y', 'V']"
   ]
  },
  {
   "cell_type": "markdown",
   "metadata": {},
   "source": [
    "Loading the protein names and sequences:"
   ]
  },
  {
   "cell_type": "code",
   "execution_count": 2,
   "metadata": {},
   "outputs": [],
   "source": [
    "path_to_file = '../data/wt.fasta'\n",
    "\n",
    "dataset = []\n",
    "for seq_record in SeqIO.parse(open(path_to_file, mode='r'), 'fasta'):\n",
    "    dataset.append((seq_record.name, str(seq_record.seq)))"
   ]
  },
  {
   "cell_type": "markdown",
   "metadata": {},
   "source": [
    "Makes mutations:"
   ]
  },
  {
   "cell_type": "code",
   "execution_count": 9,
   "metadata": {},
   "outputs": [],
   "source": [
    "def sample_mutations(dataset:list, num_samples:int) -> set:\n",
    "    \"\"\"\n",
    "    Creating random mutations\n",
    "    \"\"\"\n",
    "    # set for mutated sequences\n",
    "    res = set()\n",
    "    # total length of all the sequences \n",
    "    tot_len = sum([len(seq) for name, seq in dataset])\n",
    "    \n",
    "    print(f\"Max number of different mutations: {tot_len * 19}\")\n",
    "    assert tot_len * 19 >= num_samples, \"Can't create this many mutations for this dataset!\"\n",
    "    \n",
    "    # creating num_samples random mutated sequences, saving them in res\n",
    "    while len(res) < num_samples:\n",
    "        name, seq = random.choice(dataset)\n",
    "        pos = random.randint(0, len(seq)-1)\n",
    "        new_aa = random.choice(aa_list)\n",
    "        mut_seq = seq[:pos] + new_aa + seq[pos+1:]\n",
    "        res.add((f\"{name}|{seq[pos]}{pos}{new_aa}\", mut_seq))\n",
    "    return res"
   ]
  },
  {
   "cell_type": "markdown",
   "metadata": {},
   "source": [
    "Saving results in FASTA file:"
   ]
  },
  {
   "cell_type": "code",
   "execution_count": 8,
   "metadata": {},
   "outputs": [],
   "source": [
    "def dataset_to_fasta(ds:list, fasta_file:str) -> None:\n",
    "    \"\"\"\n",
    "    Saving results in FASTA file\n",
    "    \"\"\"\n",
    "\n",
    "    with open(fasta_file, \"w\") as f:\n",
    "        for name, seq in ds:\n",
    "            f.write(f\">{name}\\n{seq}\\n\")"
   ]
  },
  {
   "cell_type": "code",
   "execution_count": 5,
   "metadata": {},
   "outputs": [
    {
     "name": "stdout",
     "output_type": "stream",
     "text": [
      "Max number of different mutations: 21716677\n"
     ]
    }
   ],
   "source": [
    "mutations = sample_mutations(dataset, 1e7)\n",
    "dataset_to_fasta(mutations, \"../data/mut.fasta\")"
   ]
  },
  {
   "cell_type": "markdown",
   "metadata": {},
   "source": [
    "We cloned the [ESM](https://github.com/facebookresearch/esm) (Evolutionary Model Scaling) into our repository:"
   ]
  },
  {
   "cell_type": "code",
   "execution_count": null,
   "metadata": {},
   "outputs": [],
   "source": [
    "!git clone git@github.com:facebookresearch/esm.git"
   ]
  },
  {
   "cell_type": "markdown",
   "metadata": {},
   "source": [
    "First we download the model:"
   ]
  },
  {
   "cell_type": "code",
   "execution_count": null,
   "metadata": {},
   "outputs": [],
   "source": [
    "!wget https://dl.fbaipublicfiles.com/fair-esm/models/esm1b_t33_650M_UR50S.pt"
   ]
  },
  {
   "cell_type": "markdown",
   "metadata": {},
   "source": [
    "Then we computed the embedding in bulk from FASTA files of `wt.fasta` and `mut.fasta`."
   ]
  },
  {
   "cell_type": "code",
   "execution_count": null,
   "metadata": {},
   "outputs": [],
   "source": [
    "python esm/scripts/extract.py esm1b_t33_650M_UR50S wt.fasta wt --repr_layers 33 --include mean\n",
    "python esm/scripts/extract.py esm1b_t33_650M_UR50S mut.fasta mut --repr_layers 33 --include mean"
   ]
  }
 ],
 "metadata": {
  "kernelspec": {
   "display_name": "Python 3 (ipykernel)",
   "language": "python",
   "name": "python3"
  },
  "language_info": {
   "codemirror_mode": {
    "name": "ipython",
    "version": 3
   },
   "file_extension": ".py",
   "mimetype": "text/x-python",
   "name": "python",
   "nbconvert_exporter": "python",
   "pygments_lexer": "ipython3",
   "version": "3.9.7"
  },
  "vscode": {
   "interpreter": {
    "hash": "f21832d952c00280be38096b60333f9720619c4dc7b921f582d4c1dc27de40ff"
   }
  }
 },
 "nbformat": 4,
 "nbformat_minor": 2
}
