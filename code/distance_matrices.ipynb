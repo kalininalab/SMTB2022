{
 "cells": [
  {
   "cell_type": "markdown",
   "id": "9d775b3d",
   "metadata": {},
   "source": [
    "# Creating distance matrices"
   ]
  },
  {
   "cell_type": "markdown",
   "id": "e8907035",
   "metadata": {},
   "source": [
    "Importing necessary libraries:"
   ]
  },
  {
   "cell_type": "code",
   "execution_count": 8,
   "id": "4a762d49",
   "metadata": {},
   "outputs": [],
   "source": [
    "from pathlib import Path\n",
    "import plotly.express as px\n",
    "import torch\n",
    "import numpy as np\n",
    "import pandas as pd\n",
    "import torch\n",
    "from tqdm import tqdm\n",
    "from plotly.subplots import make_subplots\n",
    "import plotly.graph_objects as go"
   ]
  },
  {
   "cell_type": "markdown",
   "id": "dc193738",
   "metadata": {},
   "source": [
    "Creating DataFrame for mutated proteins with embeddings:"
   ]
  },
  {
   "cell_type": "code",
   "execution_count": 14,
   "id": "9778ef7e",
   "metadata": {},
   "outputs": [
    {
     "name": "stderr",
     "output_type": "stream",
     "text": [
      "0it [00:00, ?it/s]\n",
      "0it [00:00, ?it/s]\n"
     ]
    }
   ],
   "source": [
    "def load_data(folder_path:str) -> pd.DataFrame:\n",
    "    \"\"\"\n",
    "    Creating DataFrame for mutated proteins with embeddings\n",
    "    \"\"\"\n",
    "    \n",
    "    mut = []\n",
    "    for i in tqdm(folder_path.glob(\"*.pt\")):\n",
    "        mut.append((i.stem, torch.load(i)[\"mean_representations\"][33]))\n",
    "    return pd.DataFrame(mut, columns=[\"name\", \"embedding\"])\n",
    "\n",
    "\n",
    "path = Path(\"../data\")\n",
    "wt = load_data(path / \"wt\")\n",
    "mut = load_data(path / \"mut\")"
   ]
  },
  {
   "cell_type": "markdown",
   "id": "8e02ea75",
   "metadata": {},
   "source": [
    "Creating dictionary with names and embeddings for wild-type proteins:"
   ]
  },
  {
   "cell_type": "code",
   "execution_count": 6,
   "id": "7275e645",
   "metadata": {},
   "outputs": [],
   "source": [
    "wt_dict = wt.set_index(\"name\")[\"embedding\"].to_dict()"
   ]
  },
  {
   "cell_type": "markdown",
   "id": "19303975",
   "metadata": {},
   "source": [
    "Editing the DataFrame:"
   ]
  },
  {
   "cell_type": "code",
   "execution_count": 5,
   "id": "dfe37969",
   "metadata": {},
   "outputs": [],
   "source": [
    "mut[\"mut\"] = mut[\"name\"].apply(lambda x:x.split(\"|\")[-1])\n",
    "mut[\"uniprot_id\"] = mut[\"name\"].apply(lambda x:x.split(\"|\")[0])\n",
    "mut[\"from\"] = mut[\"mut\"].apply(lambda x:x[0])\n",
    "mut[\"to\"] = mut[\"mut\"].apply(lambda x:x[-1])\n",
    "mut[\"pos\"] = mut[\"mut\"].apply(lambda x:int(x[1:-1]))"
   ]
  },
  {
   "cell_type": "markdown",
   "id": "f769f361",
   "metadata": {},
   "source": [
    "Getting distances between embeddings for mutated protein and wild-type protein:"
   ]
  },
  {
   "cell_type": "code",
   "execution_count": 14,
   "id": "dd420102",
   "metadata": {},
   "outputs": [],
   "source": [
    "def get_dist(row):\n",
    "    \"\"\"\n",
    "    Getting distances between embeddings for mutated protein and wild-type protein\n",
    "    \"\"\"\n",
    "    \n",
    "    # wild-type protein\n",
    "    parent = wt_dict[row[\"uniprot_id\"]]\n",
    "    return (row[\"embedding\"] - parent).norm().item()"
   ]
  },
  {
   "cell_type": "markdown",
   "id": "d3122043",
   "metadata": {},
   "source": [
    "Adding a new column to the DataFrame with distances:"
   ]
  },
  {
   "cell_type": "code",
   "execution_count": 15,
   "id": "f4b4c02f",
   "metadata": {},
   "outputs": [],
   "source": [
    "mut[\"dist\"] = mut.apply(get_dist, axis=1)"
   ]
  },
  {
   "cell_type": "markdown",
   "id": "f5d8de90",
   "metadata": {},
   "source": [
    "Saving our results to CSV file:"
   ]
  },
  {
   "cell_type": "code",
   "execution_count": 17,
   "id": "1dcabd6f",
   "metadata": {},
   "outputs": [],
   "source": [
    "mut.drop([\"embedding\", \"name\"],axis=1).to_csv(\"../data/dist_data.csv\", index=False)"
   ]
  }
 ],
 "metadata": {
  "kernelspec": {
   "display_name": "Python 3 (ipykernel)",
   "language": "python",
   "name": "python3"
  },
  "language_info": {
   "codemirror_mode": {
    "name": "ipython",
    "version": 3
   },
   "file_extension": ".py",
   "mimetype": "text/x-python",
   "name": "python",
   "nbconvert_exporter": "python",
   "pygments_lexer": "ipython3",
   "version": "3.9.7"
  }
 },
 "nbformat": 4,
 "nbformat_minor": 5
}
